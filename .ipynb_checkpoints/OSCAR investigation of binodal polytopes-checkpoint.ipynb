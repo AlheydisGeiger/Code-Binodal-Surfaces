{
 "cells": [
  {
   "cell_type": "code",
   "execution_count": 13,
   "metadata": {
    "scrolled": false
   },
   "outputs": [],
   "source": [
    "using Oscar;"
   ]
  },
  {
   "cell_type": "code",
   "execution_count": 18,
   "metadata": {
    "scrolled": true
   },
   "outputs": [
    {
     "data": {
      "text/plain": [
       "singular_locus (generic function with 2 methods)"
      ]
     },
     "execution_count": 18,
     "metadata": {},
     "output_type": "execute_result"
    }
   ],
   "source": [
    "include(\"code_binodals.jl\")"
   ]
  },
  {
   "cell_type": "markdown",
   "metadata": {},
   "source": [
    "We specify the lattice points of the polytopes we want to investigate in a matrix.\n",
    "For the polytope given by A, we can compute the generalized binodal variety and we see that the ideal contains monomials. Therefore, the binodal variety in this case is empty."
   ]
  },
  {
   "cell_type": "code",
   "execution_count": 19,
   "metadata": {},
   "outputs": [
    {
     "data": {
      "text/html": [
       "ideal(a6, -64*a1*a4^2*a5 + 16*a2^2*a4^2 - 8*a2*a3^2*a4 + a3^4)"
      ],
      "text/latex": [
       "\\mathop{\\mathrm{ideal}}\\left(\\mathop{\\mathrm{a6}}, -64 \\mathop{\\mathrm{a1}} \\mathop{\\mathrm{a4}}^{2} \\mathop{\\mathrm{a5}} + 16 \\mathop{\\mathrm{a2}}^{2} \\mathop{\\mathrm{a4}}^{2} - 8 \\mathop{\\mathrm{a2}} \\mathop{\\mathrm{a3}}^{2} \\mathop{\\mathrm{a4}} + \\mathop{\\mathrm{a3}}^{4}\\right)"
      ],
      "text/plain": [
       "ideal(a6, -64*a1*a4^2*a5 + 16*a2^2*a4^2 - 8*a2*a3^2*a4 + a3^4)"
      ]
     },
     "execution_count": 19,
     "metadata": {},
     "output_type": "execute_result"
    }
   ],
   "source": [
    "A = matrix(ZZ,6,3,[0,0,0,0,1,0,0,1,1,0,1,2,0,2,0,1,1,0]); #Polytope 1\n",
    "I=general_binodal(A)"
   ]
  },
  {
   "cell_type": "code",
   "execution_count": 20,
   "metadata": {},
   "outputs": [
    {
     "data": {
      "text/html": [
       "ideal(1)"
      ],
      "text/latex": [
       "\\mathop{\\mathrm{ideal}}\\left(1\\right)"
      ],
      "text/plain": [
       "ideal(1)"
      ]
     },
     "execution_count": 20,
     "metadata": {},
     "output_type": "execute_result"
    }
   ],
   "source": [
    "binodal(A)"
   ]
  },
  {
   "cell_type": "markdown",
   "metadata": {},
   "source": [
    "The ideal generating the binodal variety can also be computed from the ideal generating the generalized binodal variety."
   ]
  },
  {
   "cell_type": "code",
   "execution_count": 21,
   "metadata": {},
   "outputs": [
    {
     "data": {
      "text/html": [
       "ideal(1)"
      ],
      "text/latex": [
       "\\mathop{\\mathrm{ideal}}\\left(1\\right)"
      ],
      "text/plain": [
       "ideal(1)"
      ]
     },
     "execution_count": 21,
     "metadata": {},
     "output_type": "execute_result"
    }
   ],
   "source": [
    "binodal(I)"
   ]
  },
  {
   "cell_type": "markdown",
   "metadata": {},
   "source": [
    "Not in every case this is so easy to see whether the binodal variety is empty. To investigate the binodal variet, we have the function investigate_binodalvariety()"
   ]
  },
  {
   "cell_type": "code",
   "execution_count": 22,
   "metadata": {},
   "outputs": [
    {
     "ename": "LoadError",
     "evalue": "AssertionError: Generalized binodal variety is of too small dimension.",
     "output_type": "error",
     "traceback": [
      "AssertionError: Generalized binodal variety is of too small dimension.",
      "",
      "Stacktrace:",
      " [1] binodal(A::fmpz_mat)",
      "   @ Main /mnt/d/alhey/Documents/Promotion/Code-Binodal-Surfaces/code_binodals.jl:57",
      " [2] investigate_binodal(A::fmpz_mat)",
      "   @ Main /mnt/d/alhey/Documents/Promotion/Code-Binodal-Surfaces/code_binodals.jl:122",
      " [3] top-level scope",
      "   @ In[22]:2",
      " [4] eval",
      "   @ ./boot.jl:373 [inlined]",
      " [5] include_string(mapexpr::typeof(REPL.softscope), mod::Module, code::String, filename::String)",
      "   @ Base ./loading.jl:1196"
     ]
    }
   ],
   "source": [
    "B = matrix(ZZ,6,3,[0,1,0,0,1,1,0,2,0,1,0,3,1,1,0,1,1,1]); #Polytope 20 a=3\n",
    "investigate_binodal(B)"
   ]
  },
  {
   "cell_type": "code",
   "execution_count": 24,
   "metadata": {},
   "outputs": [
    {
     "name": "stdout",
     "output_type": "stream",
     "text": [
      "Affine dimension of the generalized variety is 4\n",
      "The binodal variety is of expected affine dimension.\n",
      "Degree of the binodal variet is 6\n",
      "[0 1 0; 0 1 1; 0 2 0; 1 0 4; 1 1 0; 1 1 1] could be a binodal polytope.\n"
     ]
    },
    {
     "data": {
      "text/plain": [
       "(4, 6)"
      ]
     },
     "execution_count": 24,
     "metadata": {},
     "output_type": "execute_result"
    }
   ],
   "source": [
    "B1 = matrix(ZZ,6,3,[0,1,0,0,1,1,0,2,0,1,0,4,1,1,0,1,1,1]); #Polytope 20 a=4\n",
    "investigate_binodal(B1)"
   ]
  },
  {
   "cell_type": "markdown",
   "metadata": {},
   "source": [
    "Lastly, we consider an example of a binodal polytope and how to compute the multiplicity of a chosen lattice path."
   ]
  },
  {
   "cell_type": "code",
   "execution_count": 25,
   "metadata": {},
   "outputs": [
    {
     "name": "stdout",
     "output_type": "stream",
     "text": [
      "Affine dimension of the generalized variety is 4\n",
      "The binodal variety is of expected affine dimension.\n",
      "Degree of the binodal variet is 6\n",
      "[0 0 0; 0 0 1; 0 1 0; 0 1 1; 1 0 0; 1 3 1] could be a binodal polytope.\n"
     ]
    },
    {
     "data": {
      "text/plain": [
       "(4, 6)"
      ]
     },
     "execution_count": 25,
     "metadata": {},
     "output_type": "execute_result"
    }
   ],
   "source": [
    "C = matrix(ZZ,6,3,[0,0,0,0,0,1,0,1,0,0,1,1,1,0,0,1,3,1]); #Polytope 10 a=3,b=1\n",
    "investigate_binodal(C)"
   ]
  },
  {
   "cell_type": "markdown",
   "metadata": {},
   "source": [
    "Take care that the order of the lattice points fits with the order of the smooth lattice path."
   ]
  },
  {
   "cell_type": "markdown",
   "metadata": {},
   "source": [
    "We specify the positions of the two lattice points that are left out in the lattice path. This example fits with the first lattice path to polytope 10 depicted in Table 2 in the paper \"Towards tropically counting binodal surfaces\""
   ]
  },
  {
   "cell_type": "code",
   "execution_count": 26,
   "metadata": {},
   "outputs": [],
   "source": [
    "p = [3,5];\n",
    "b = [true,true]; #the path is connected"
   ]
  },
  {
   "cell_type": "markdown",
   "metadata": {},
   "source": [
    "The following points will be substituted as values of those coefficients corresponding to the points attained in the lattice path. They have to be chosen generically enough, so that the dimension of the intersection of the binodal variety with the hyperplanes given by these values is zero."
   ]
  },
  {
   "cell_type": "code",
   "execution_count": 27,
   "metadata": {},
   "outputs": [],
   "source": [
    "v = [1//2,1//3,1//5,1//7];"
   ]
  },
  {
   "cell_type": "code",
   "execution_count": 28,
   "metadata": {},
   "outputs": [
    {
     "name": "stdout",
     "output_type": "stream",
     "text": [
      "Affine dimension is 0\n",
      "Path multiplicity is 1\n"
     ]
    },
    {
     "data": {
      "text/plain": [
       "(ideal(63*e2 - 500, 80*e1 + 3), 1)"
      ]
     },
     "execution_count": 28,
     "metadata": {},
     "output_type": "execute_result"
    }
   ],
   "source": [
    "path_mult(C,p,b,v)"
   ]
  },
  {
   "cell_type": "markdown",
   "metadata": {},
   "source": [
    "Wee see that we have chosen <code>v</code> generic enough, because the Affine Dimension is 0. This lattice path has multiplicity 1, so a tropical surface dual to the polytope given by C has exactly one complex lift for fixed point conditions in Mikhalkin position."
   ]
  }
 ],
 "metadata": {
  "kernelspec": {
   "display_name": "Julia 1.7.1",
   "language": "julia",
   "name": "julia-1.7"
  },
  "language_info": {
   "file_extension": ".jl",
   "mimetype": "application/julia",
   "name": "julia",
   "version": "1.7.1"
  }
 },
 "nbformat": 4,
 "nbformat_minor": 4
}
