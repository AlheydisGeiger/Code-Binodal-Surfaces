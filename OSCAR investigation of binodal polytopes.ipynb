{
 "cells": [
  {
   "cell_type": "code",
   "execution_count": 3,
   "metadata": {
    "scrolled": true
   },
   "outputs": [
    {
     "name": "stdout",
     "output_type": "stream",
     "text": [
      " -----    -----    -----      -      -----   \n",
      "|     |  |     |  |     |    | |    |     |  \n",
      "|     |  |        |         |   |   |     |  \n",
      "|     |   -----   |        |     |  |-----   \n",
      "|     |        |  |        |-----|  |   |    \n",
      "|     |  |     |  |     |  |     |  |    |   \n",
      " -----    -----    -----   -     -  -     -  \n",
      "\n",
      "...combining (and extending) ANTIC, GAP, Polymake and Singular\n",
      "Version\u001b[32m 0.6.0 \u001b[39m... \n",
      " ... which comes with absolutely no warranty whatsoever\n",
      "Type: '?Oscar' for more information\n",
      "(c) 2019-2021 by The Oscar Development Team\n"
     ]
    }
   ],
   "source": [
    "using Oscar"
   ]
  },
  {
   "cell_type": "code",
   "execution_count": 4,
   "metadata": {},
   "outputs": [
    {
     "data": {
      "text/plain": [
       "con_mult (generic function with 1 method)"
      ]
     },
     "execution_count": 4,
     "metadata": {},
     "output_type": "execute_result"
    }
   ],
   "source": [
    "include(\"function_countbinodalsurfaces.jl\")"
   ]
  },
  {
   "cell_type": "markdown",
   "metadata": {},
   "source": [
    "We specify the lattice points of the polytopes we want to investigate in a matrix.\n",
    "For polytope given by A we directly see from the ideal that it contains monomials."
   ]
  },
  {
   "cell_type": "code",
   "execution_count": 10,
   "metadata": {},
   "outputs": [
    {
     "data": {
      "text/html": [
       "ideal(a6, -64*a1*a4^2*a5 + 16*a2^2*a4^2 - 8*a2*a3^2*a4 + a3^4)"
      ],
      "text/latex": [
       "\\operatorname{ideal}\\left(\\operatorname{a6}, -64 \\operatorname{a1} \\operatorname{a4}^{2} \\operatorname{a5} + 16 \\operatorname{a2}^{2} \\operatorname{a4}^{2} - 8 \\operatorname{a2} \\operatorname{a3}^{2} \\operatorname{a4} + \\operatorname{a3}^{4}\\right)"
      ],
      "text/plain": [
       "ideal(a6, -64*a1*a4^2*a5 + 16*a2^2*a4^2 - 8*a2*a3^2*a4 + a3^4)"
      ]
     },
     "execution_count": 10,
     "metadata": {},
     "output_type": "execute_result"
    }
   ],
   "source": [
    "A = matrix(ZZ,6,3,[0,0,0,0,1,0,0,1,1,0,1,2,0,2,0,1,1,0]); #Polytope 1\n",
    "binodal(A)"
   ]
  },
  {
   "cell_type": "markdown",
   "metadata": {},
   "source": [
    "Not in every case this is so easy to see. To investigate this, we have the function investigate_binodalvariety()"
   ]
  },
  {
   "cell_type": "code",
   "execution_count": 17,
   "metadata": {},
   "outputs": [
    {
     "name": "stdout",
     "output_type": "stream",
     "text": [
      "Affine Dimension is 3\n",
      "The binodal variety has not the expected affine dimension.\n",
      "Degree is 2\n",
      "Contains monomials.\n"
     ]
    }
   ],
   "source": [
    "B = matrix(ZZ,6,3,[0,1,0,0,1,1,0,2,0,1,0,3,1,1,0,1,1,1]); #Polytope 20 a=3\n",
    "investigate_binodalvariety(B)"
   ]
  },
  {
   "cell_type": "markdown",
   "metadata": {},
   "source": [
    "Lastly, we consider an example of a binodal polytope and how to compute the multiplicity of a chosen lattice path."
   ]
  },
  {
   "cell_type": "code",
   "execution_count": 18,
   "metadata": {},
   "outputs": [
    {
     "name": "stdout",
     "output_type": "stream",
     "text": [
      "Affine Dimension is 4\n",
      "The binodal variety is of expected affine dimension.\n",
      "Degree is 6\n",
      "Does not contain monomials.\n",
      "[0 0 0; 0 0 1; 0 1 0; 0 1 1; 1 0 0; 1 3 1] could be a binodal polytope.\n"
     ]
    }
   ],
   "source": [
    "C = matrix(ZZ,6,3,[0,0,0,0,0,1,0,1,0,0,1,1,1,0,0,1,3,1]); #Polytope 10 a=3,b=1\n",
    "investigate_binodalvariety(C)"
   ]
  },
  {
   "cell_type": "markdown",
   "metadata": {},
   "source": [
    "Take care that the order of the lattice points fits with the order of the smooth lattice path."
   ]
  },
  {
   "cell_type": "markdown",
   "metadata": {},
   "source": [
    "We specify the positions of the two lattice points that are left out in the lattice path. This example fits with the first lattice path to polytope 10 depicted in Table 2 in the paper \"Towards tropically counting binodal surfaces\""
   ]
  },
  {
   "cell_type": "code",
   "execution_count": 14,
   "metadata": {},
   "outputs": [],
   "source": [
    "s = 3;\n",
    "t = 5;"
   ]
  },
  {
   "cell_type": "markdown",
   "metadata": {},
   "source": [
    "The following points will be substituted as values of those coefficients corresponding to the points attained in the lattice path. They have to be chosen generically enough, so that the dimension of the intersection of the binodal variety with the hyperplanes given by these values is zero."
   ]
  },
  {
   "cell_type": "code",
   "execution_count": 15,
   "metadata": {},
   "outputs": [],
   "source": [
    "v = [1//2,1//3,1//5,1//7];"
   ]
  },
  {
   "cell_type": "code",
   "execution_count": 19,
   "metadata": {},
   "outputs": [
    {
     "name": "stdout",
     "output_type": "stream",
     "text": [
      "Affine Dimension is 0\n",
      "Path Multiplicity is 1\n"
     ]
    },
    {
     "data": {
      "text/html": [
       "$1$"
      ],
      "text/latex": [
       "1"
      ],
      "text/plain": [
       "1"
      ]
     },
     "execution_count": 19,
     "metadata": {},
     "output_type": "execute_result"
    }
   ],
   "source": [
    "con_mult(C,s,t,v)"
   ]
  },
  {
   "cell_type": "markdown",
   "metadata": {},
   "source": [
    "Wee see that we have chosen <code>v</code> generic enough, because the Affine Dimension is 0. This lattice path has multiplicity 1, so a tropical surface dual to the polytope given by C has exactly one complex lift for fixed point conditions in Mikhalkin position."
   ]
  }
 ],
 "metadata": {
  "kernelspec": {
   "display_name": "Julia 1.6.2",
   "language": "julia",
   "name": "julia-1.6"
  },
  "language_info": {
   "file_extension": ".jl",
   "mimetype": "application/julia",
   "name": "julia",
   "version": "1.6.2"
  }
 },
 "nbformat": 4,
 "nbformat_minor": 4
}
